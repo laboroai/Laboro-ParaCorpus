{
 "cells": [
  {
   "cell_type": "code",
   "execution_count": null,
   "metadata": {},
   "outputs": [],
   "source": [
    "import os\n",
    "from tqdm.notebook import tqdm\n",
    "import random\n",
    "import json"
   ]
  },
  {
   "cell_type": "markdown",
   "metadata": {},
   "source": [
    "# ASPEC"
   ]
  },
  {
   "cell_type": "code",
   "execution_count": null,
   "metadata": {},
   "outputs": [],
   "source": [
    "# test file \"test.txt\" original placed at \"ASPEC/ASPEC-JE/test/test.txt\"\n",
    "\n",
    "test_file = '/home/ubuntu/nmt/expe14/corpus/aspec/test.txt'\n",
    "ja_output_file = '/home/ubuntu/nmt/expe14/corpus/aspec/test.ja'\n",
    "en_output_file = '/home/ubuntu/nmt/expe14/corpus/aspec/test.en'\n",
    "\n",
    "with open(ja_output_file,'w') as ja_output, open(en_output_file,'w') as en_output:\n",
    "    for line in tqdm(open(test_file).readlines()):\n",
    "        _, _, ja, en = line.split(' ||| ')\n",
    "        ja = ja.strip()\n",
    "        en = en.strip()\n",
    "        ja_output.write(ja+'\\n')\n",
    "        en_output.write(en+'\\n')\n",
    "        \n"
   ]
  },
  {
   "cell_type": "markdown",
   "metadata": {},
   "source": [
    "# JESC"
   ]
  },
  {
   "cell_type": "code",
   "execution_count": null,
   "metadata": {},
   "outputs": [],
   "source": [
    "# test file \"test\" original placed at \"JESC/split/test\"\n",
    "\n",
    "!cut -d $'\\t' -f 1 /home/ubuntu/nmt/expe14/corpus/jesc/test > /home/ubuntu/nmt/expe14/corpus/jesc/test.en\n",
    "!cut -d $'\\t' -f 2 /home/ubuntu/nmt/expe14/corpus/jesc/test > /home/ubuntu/nmt/expe14/corpus/jesc/test.ja\n",
    "\n"
   ]
  },
  {
   "cell_type": "markdown",
   "metadata": {},
   "source": [
    "# KFTT"
   ]
  },
  {
   "cell_type": "code",
   "execution_count": null,
   "metadata": {},
   "outputs": [],
   "source": [
    "# test file \"kyoto-test.*\" original placed at \"kftt-data-1.0/data/orig/kyoto-test.*\"\n",
    "\n",
    "!mv /home/ubuntu/nmt/expe14/corpus/kftt/kyoto-test.en /home/ubuntu/nmt/expe14/corpus/kftt/test.en\n",
    "!mv /home/ubuntu/nmt/expe14/corpus/kftt/kyoto-test.ja /home/ubuntu/nmt/expe14/corpus/kftt/test.ja\n"
   ]
  },
  {
   "cell_type": "markdown",
   "metadata": {},
   "source": [
    "# IWSLT"
   ]
  },
  {
   "cell_type": "code",
   "execution_count": null,
   "metadata": {},
   "outputs": [],
   "source": [
    "def process(in_file,output):\n",
    "    in_xml = open(in_file).readlines()\n",
    "    with open(output,'w') as output_file:\n",
    "        for line in in_xml:\n",
    "            if line[:len('<seg id=')]=='<seg id=':\n",
    "                scp = line.split('>')[1].split('</seg')[0].strip()\n",
    "                output_file.write(scp+'\\n')\n",
    "\n",
    "def process_train(in_file,output):\n",
    "    in_xml = open(in_file).readlines()\n",
    "    with open(output,'w') as output_file:\n",
    "        for line in in_xml:\n",
    "            if line[0]=='<':\n",
    "                continue\n",
    "            output_file.write(line.strip()+'\\n')\n",
    "\n",
    "# test dataset\n",
    "# test file \"IWSLT17.TED.tst2015.ja-en.*.xml\" original placed at \"IWSLT-2017/2017-01-trnted/texts/ja/en/ja-en/IWSLT17.TED.tst2015.ja-en.*.xml\"\n",
    "data_dir = '/home/ubuntu/nmt/expe14/corpus/iwslt/'\n",
    "en_file = os.path.join(data_dir, 'IWSLT17.TED.tst2015.ja-en.en.xml')\n",
    "ja_file = os.path.join(data_dir, 'IWSLT17.TED.tst2015.ja-en.ja.xml')\n",
    "\n",
    "en_scp_output = os.path.join(data_dir, 'test.en')\n",
    "ja_scp_output = os.path.join(data_dir, 'test.ja')\n",
    "\n",
    "process(en_file,en_scp_output)\n",
    "process(ja_file,ja_scp_output) \n",
    "\n",
    "# dev dataset (not necessary)\n",
    "# dev file \"IWSLT17.TED.dev2010.ja-en.*.xml\" original placed at \"IWSLT-2017/2017-01-trnted/texts/ja/en/ja-en/IWSLT17.TED.dev2010.ja-en.*.xml\"\n",
    "data_dir = '/home/ubuntu/nmt/expe14/corpus/iwslt/'\n",
    "en_file = os.path.join(data_dir, 'IWSLT17.TED.dev2010.ja-en.en.xml')\n",
    "ja_file = os.path.join(data_dir, 'IWSLT17.TED.dev2010.ja-en.ja.xml')\n",
    "\n",
    "en_scp_output = os.path.join(data_dir, 'dev.en')\n",
    "ja_scp_output = os.path.join(data_dir, 'dev.ja')\n",
    "\n",
    "process(en_file,en_scp_output)\n",
    "process(ja_file,ja_scp_output)    \n",
    "\n",
    "# train dataset (not necessary)\n",
    "# train file \"train.tags.ja-en.*\" original placed at \"IWSLT-2017/2017-01-trnted/texts/ja/en/ja-en/train.tags.ja-en.*\"\n",
    "data_dir = '/home/ubuntu/nmt/expe6/corpus/iwslt'\n",
    "en_file = os.path.join(data_dir, 'train.tags.ja-en.en')\n",
    "ja_file = os.path.join(data_dir, 'train.tags.ja-en.ja')\n",
    "\n",
    "en_scp_output = os.path.join(data_dir, 'train.en')\n",
    "ja_scp_output = os.path.join(data_dir, 'train.ja')\n",
    "\n",
    "process_train(en_file,en_scp_output)\n",
    "process_train(ja_file,ja_scp_output)     \n",
    "\n"
   ]
  },
  {
   "cell_type": "markdown",
   "metadata": {},
   "source": [
    "# DUOLINGO"
   ]
  },
  {
   "cell_type": "code",
   "execution_count": null,
   "metadata": {},
   "outputs": [],
   "source": [
    "# test file \"test.en_ja.2020-02-20.gold.txt\" original placed at \"Duolingo/staple-2020/en_ja/test.en_ja.2020-02-20.gold.txt\"\n",
    "\n",
    "root_dir = '/home/ubuntu/nmt/expe14/corpus/duo'\n",
    "test_file = os.path.join(root_dir,'test.en_ja.2020-02-20.gold.txt')\n",
    "test_data = open(test_file).readlines()\n",
    "\n",
    "en_output_file = os.path.join(root_dir,'test.en')\n",
    "ja_output_file = os.path.join(root_dir,'test.ja')\n",
    "with open(en_output_file,'w') as en_output, open(ja_output_file,'w') as ja_output:\n",
    "    for n in range(len(test_data)):\n",
    "        line = test_data[n]\n",
    "        if line.startswith('prompt_'):\n",
    "            if test_data[n+1].startswith('prompt_'):\n",
    "                print(f'Error: No JA text found for prompt at line {n}!')\n",
    "            else:\n",
    "                try:\n",
    "                    en_text = line.split('|')[1].strip()\n",
    "                    ja_text = test_data[n+1].split('|')[0].strip()\n",
    "                except:\n",
    "                    print(f'Error: Cannot parse the prompts at line {n} or {n+1}!')\n",
    "                \n",
    "                en_output.write(en_text+'\\n')\n",
    "                ja_output.write(ja_text+'\\n')\n"
   ]
  },
  {
   "cell_type": "markdown",
   "metadata": {},
   "source": [
    "# Tatoeba"
   ]
  },
  {
   "cell_type": "code",
   "execution_count": null,
   "metadata": {},
   "outputs": [],
   "source": [
    "# test file \"Tatoeba.en-ja.*\" original placed at \"tatoeba/Tatoeba.en-ja.*\"\n",
    "\n",
    "root_dir = '/home/ubuntu/nmt/expe14/corpus/ttb'\n",
    "\n",
    "input_en = open(os.path.join(root_dir,'Tatoeba.en-ja.en')).readlines()\n",
    "input_ja = open(os.path.join(root_dir,'Tatoeba.en-ja.ja')).readlines()\n",
    "\n",
    "assert len(input_en)==len(input_ja)\n",
    "\n",
    "index = list(range(len(input_en)))\n",
    "random.shuffle(index)\n",
    "\n",
    "en_output_path = os.path.join(root_dir,'test.en')\n",
    "ja_output_path = os.path.join(root_dir,'test.ja')\n",
    "\n",
    "with open(en_output_path,'w') as en_output, \\\n",
    "open(ja_output_path,'w') as ja_output:\n",
    "    for i in range(2000):\n",
    "        idx = index[i]\n",
    "        en_output.write(input_en[idx].strip()+'\\n')\n",
    "        ja_output.write(input_ja[idx].strip()+'\\n')\n"
   ]
  },
  {
   "cell_type": "markdown",
   "metadata": {},
   "source": [
    "# BSD"
   ]
  },
  {
   "cell_type": "code",
   "execution_count": null,
   "metadata": {},
   "outputs": [],
   "source": [
    "# test file \"test.json\" original placed at \"BSD/test.json\"\n",
    "\n",
    "root_dir = '/home/ubuntu/nmt/expe14/corpus/bsd'\n",
    "\n",
    "input_ = json.load(open(os.path.join(root_dir,'test.json')))\n",
    "en_output_path = os.path.join(root_dir,'test.en')\n",
    "ja_output_path = os.path.join(root_dir,'test.ja')\n",
    "\n",
    "with open(en_output_path,'w') as en_output,open(ja_output_path,'w') as ja_output:\n",
    "    for scene in input_:\n",
    "        for conv in scene['conversation']:\n",
    "            en_output.write(conv['en_sentence']+'\\n')\n",
    "            ja_output.write(conv['ja_sentence']+'\\n')\n",
    "            "
   ]
  },
  {
   "cell_type": "code",
   "execution_count": null,
   "metadata": {},
   "outputs": [],
   "source": []
  }
 ],
 "metadata": {
  "kernelspec": {
   "display_name": "Python 3",
   "language": "python",
   "name": "python3"
  },
  "language_info": {
   "codemirror_mode": {
    "name": "ipython",
    "version": 3
   },
   "file_extension": ".py",
   "mimetype": "text/x-python",
   "name": "python",
   "nbconvert_exporter": "python",
   "pygments_lexer": "ipython3",
   "version": "3.7.4"
  }
 },
 "nbformat": 4,
 "nbformat_minor": 2
}
